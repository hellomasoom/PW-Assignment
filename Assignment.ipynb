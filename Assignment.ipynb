{
 "cells": [
  {
   "cell_type": "code",
   "execution_count": null,
   "id": "f19a91c2",
   "metadata": {},
   "outputs": [],
   "source": [
    "# Q1 Write a code to reverse a string\n",
    "string = input(\"Enter a string: \")\n",
    "reversed_string = string[::-1]\n",
    "\n",
    "print(\"Reversed string:\", reversed_string)\n"
   ]
  },
  {
   "cell_type": "code",
   "execution_count": null,
   "id": "09364543",
   "metadata": {},
   "outputs": [],
   "source": [
    "#Q2 Write a code to count the number of vowels in a string\u0012\n",
    "string = input(\"Enter a string: \")\n",
    "\n",
    "vowels = \"aeiouAEIOU\"\n",
    "count = 0\n",
    "\n",
    "for char in string:\n",
    "    if char in vowels:\n",
    "        count += 1\n",
    "\n",
    "print(\"Number of vowels in the string:\", count)\n"
   ]
  },
  {
   "cell_type": "code",
   "execution_count": null,
   "id": "3ac83fbb",
   "metadata": {},
   "outputs": [],
   "source": [
    "#Q3 Write a code to check if a given string is a palindrome or not\n",
    "string = input(\"Enter a string: \")\n",
    "processed_string = string.replace(\" \", \"\").lower()\n",
    "\n",
    "if processed_string == processed_string[::-1]:\n",
    "    print(\"The string is a palindrome.\")\n",
    "else:\n",
    "    print(\"The string is not a palindrome.\")\n"
   ]
  },
  {
   "cell_type": "code",
   "execution_count": null,
   "id": "d81bf39e",
   "metadata": {},
   "outputs": [],
   "source": [
    "#Q4 Write a code to check if two given strings are anagrams of each other\u0012\n",
    "string1 = input(\"Enter the first string: \")\n",
    "string2 = input(\"Enter the second string: \")\n",
    "\n",
    "if sorted(string1.replace(\" \", \"\").lower()) == sorted(string2.replace(\" \", \"\").lower()):\n",
    "    print(\"The strings is anagrams.\")\n",
    "else:\n",
    "    print(\"The strings is not anagrams.\")\n",
    "\n",
    "    "
   ]
  },
  {
   "cell_type": "code",
   "execution_count": null,
   "id": "3fd4e03e",
   "metadata": {},
   "outputs": [],
   "source": [
    "#Q6 Write a code to perform basic string compression using the counts of repeated characters\n",
    "input_string = input(\"Enter the string to compress: \")\n",
    "compressed_string = \"\"\n",
    "count = 1\n",
    "for i in range(1, len(input_string)):\n",
    "    if input_string[i] == input_string[i - 1]:\n",
    "        count += 1  \n",
    "    else:\n",
    "        compressed_string += input_string[i - 1] + str(count) if count > 1 else input_string[i - 1]\n",
    "        count = 1  \n",
    "\n",
    "compressed_string += input_string[-1] + str(count) if count > 1 else input_string[-1]\n",
    "print(\"Compressed string:\", compressed_string)\n"
   ]
  },
  {
   "cell_type": "code",
   "execution_count": null,
   "id": "7aaeae6c",
   "metadata": {},
   "outputs": [],
   "source": [
    "#Q7 Write a code to determine if a string has all unique characters\n",
    "input_string = input(\"Enter the string: \")\n",
    "if len(input_string) == len(set(input_string)):\n",
    "    print(\"The string has all unique characters.\")\n",
    "else:\n",
    "    print(\"The string does not have all unique characters.\")\n"
   ]
  },
  {
   "cell_type": "code",
   "execution_count": null,
   "id": "01a49a5e",
   "metadata": {},
   "outputs": [],
   "source": [
    "#Q8  Write a code to convert a given string to uppercase or lowercase\n",
    "input_string = input(\"Enter the string: \")\n",
    "choice = input(\"Enter 'u' for uppercase or 'l' for lowercase: \")\n",
    "\n",
    "if choice.lower() == 'u':\n",
    "    print(\"Converted string:\", input_string.upper())\n",
    "elif choice.lower() == 'l':\n",
    "    print(\"Converted string:\", input_string.lower())\n",
    "else:\n",
    "    print(\"Invalid choice. Please enter 'u' or 'l'.\")\n"
   ]
  },
  {
   "cell_type": "code",
   "execution_count": null,
   "id": "e663cbda",
   "metadata": {},
   "outputs": [],
   "source": [
    "#Q9 Write a code to count the number of words in a string\n",
    "\n",
    "input_string = input(\"Enter the string: \")\n",
    "word_count = len(input_string.split())\n",
    "print(\"Number of words in the string:\", word_count)\n"
   ]
  },
  {
   "cell_type": "code",
   "execution_count": null,
   "id": "595ddbd7",
   "metadata": {},
   "outputs": [],
   "source": [
    "#Q10 Write a code to concatenate two strings without using the + operator\n",
    "str1 = \"Hello\"    \n",
    "str2 = \"world\"        \n",
    "str3 = \" \".join([str1, str2])        \n",
    "print(\"The new combined string is:\",str3)    "
   ]
  },
  {
   "cell_type": "code",
   "execution_count": null,
   "id": "2a66cc1a",
   "metadata": {},
   "outputs": [],
   "source": [
    "#Q11 Write a code to remove all occurrences of a specific element from a list\n",
    "input_list = input(\"Enter the list elements separated by spaces: \").split()\n",
    "element_to_remove = input(\"Enter the element to remove: \")\n",
    "\n",
    "while element_to_remove in input_list:\n",
    "    input_list.remove(element_to_remove)\n",
    "\n",
    "print(\"List after removing all occurrences of the element:\", input_list)\n"
   ]
  },
  {
   "cell_type": "code",
   "execution_count": null,
   "id": "5ce439e9",
   "metadata": {},
   "outputs": [],
   "source": [
    "# Q12 \n",
    "a = [10, 20, 4, 45, 99]\n",
    "a.sort(reverse=True)\n",
    "print(a[1])"
   ]
  },
  {
   "cell_type": "code",
   "execution_count": null,
   "id": "b939d589",
   "metadata": {},
   "outputs": [],
   "source": [
    "#Q13 Create a code to count the occurrences of each element in a list and return a dictionary with elements as\n",
    "#keys and their counts as values\n",
    "input_list = input(\"Enter the list elements separated by spaces: \").split()\n",
    "\n",
    "element_counts = {}\n",
    "for element in input_list:\n",
    "    element_counts[element] = element_counts.get(element, 0) + 1\n",
    "\n",
    "print(\"Occurrences of each element:\", element_counts)\n",
    "\n"
   ]
  },
  {
   "cell_type": "code",
   "execution_count": null,
   "id": "b2f3e29e",
   "metadata": {},
   "outputs": [],
   "source": [
    "#Q14Write a code to reverse a list in-place without using any built-in reverse functions\n",
    "a = [1, 2, 3, 4, 5]\n",
    "rev = a[::-1]\n",
    "print(rev)"
   ]
  },
  {
   "cell_type": "code",
   "execution_count": null,
   "id": "62bacfd5",
   "metadata": {},
   "outputs": [],
   "source": [
    "#Q15 Implement a code to find and remove duplicates from a list while preserving the original order of\n",
    "#elements\n",
    "a = [1, 2, 3, 4, 2, 5, 3, 6, 1]\n",
    "\n",
    "result = []\n",
    "for item in a:\n",
    "    if item not in result:\n",
    "        result.append(item)\n",
    "\n",
    "print(result)\n"
   ]
  },
  {
   "cell_type": "code",
   "execution_count": null,
   "id": "b7626f54",
   "metadata": {},
   "outputs": [],
   "source": [
    "#Q16 Create a code to check if a given list is sorted (either in ascending or descending order) or not\n",
    "a = [1, 2, 3, 4, 5]\n",
    "\n",
    "if a == sorted(a):\n",
    "    print(\"The list is sorted in ascending order.\")\n",
    "elif a == sorted(a, reverse=True):\n",
    "    print(\"The list is sorted in descending order.\")\n",
    "else:\n",
    "    print(\"The list is not sorted.\")\n"
   ]
  },
  {
   "cell_type": "code",
   "execution_count": null,
   "id": "3bf7467d",
   "metadata": {},
   "outputs": [],
   "source": [
    "#Q17\n",
    "test_list1 = list(map(int, input(\"Enter elements of list 1 separated by space: \").split()))\n",
    "test_list2 = list(map(int, input(\"Enter elements of list 2 separated by space: \").split()))\n",
    "print(\"The original list 1 is : \" + str(test_list1))\n",
    "print(\"The original list 2 is : \" + str(test_list2))\n",
    "res = sorted(test_list1 + test_list2)\n",
    "\n",
    "print(\"The combined sorted list is : \" + str(res))\n"
   ]
  },
  {
   "cell_type": "code",
   "execution_count": null,
   "id": "16e507e7",
   "metadata": {},
   "outputs": [],
   "source": [
    "#Q18 Implement a code to find the intersection of two given lists\n",
    "\n",
    "list1 = [1, 2, 3, 4, 5]\n",
    "list2 = [4, 5, 6, 7, 8]\n",
    "\n",
    "intersection = list(set(list1) & set(list2))\n",
    "\n",
    "print(\"The intersection of the two lists is:\", intersection)"
   ]
  },
  {
   "cell_type": "code",
   "execution_count": null,
   "id": "073ce855",
   "metadata": {},
   "outputs": [],
   "source": [
    "#Q19 Create a code to find the union of two lists without duplicates\n",
    "list1 = [1, 2, 3, 4, 5]\n",
    "list2 = [4, 5, 6, 7, 8]\n",
    "\n",
    "union = list(set(list1) | set(list2))\n",
    "\n",
    "print(\"The union of the two lists is:\", union)"
   ]
  },
  {
   "cell_type": "code",
   "execution_count": null,
   "id": "6b403db3",
   "metadata": {},
   "outputs": [],
   "source": [
    "#Q20 \n",
    "import random\n",
    "\n",
    "a = [1, 2, 3, 4, 5]\n",
    "b = random.sample(a, len(a))\n",
    "print(b)"
   ]
  },
  {
   "cell_type": "code",
   "execution_count": null,
   "id": "69dd1453",
   "metadata": {},
   "outputs": [],
   "source": [
    "#Q21 Write a code that takes two tuples as input and returns a new tuple containing elements that are\n",
    "\n",
    "tuple1 = tuple(map(int, input(\"Enter elements of the first tuple separated by space: \").split()))\n",
    "tuple2 = tuple(map(int, input(\"Enter elements of the second tuple separated by space: \").split()))\n",
    "\n",
    "common_elements = tuple(set(tuple1) & set(tuple2))\n",
    "\n",
    "print(\"The common elements between the two tuples are:\", common_elements)"
   ]
  },
  {
   "cell_type": "code",
   "execution_count": null,
   "id": "b6e8d759",
   "metadata": {},
   "outputs": [],
   "source": [
    "#Q22 Create a code that prompts the user to enter two sets of integers separated by commas. Then, print the\n",
    "set1 = set(map(int, input(\"Enter the first set of integers (separated by commas): \").split(',')))\n",
    "set2 = set(map(int, input(\"Enter the second set of integers (separated by commas): \").split(',')))\n",
    "intersection = set1 & set2\n",
    "print(\"The intersection of the two sets is:\", intersection)"
   ]
  },
  {
   "cell_type": "code",
   "execution_count": null,
   "id": "955c0c07",
   "metadata": {},
   "outputs": [],
   "source": [
    "#Q23 Write a code to concatenate two tuples. The function should take two tuples as input and return a new\n",
    "#tuple containing elements from both input tuples.\n",
    "\n",
    "def concatenate_tuples(tuple1, tuple2):\n",
    "    return tuple1 + tuple2\n",
    "\n",
    "# Example input\n",
    "tuple1 = (1, 2, 3)\n",
    "tuple2 = (4, 5, 6)\n",
    "\n",
    "# Concatenate the tuples\n",
    "result = concatenate_tuples(tuple1, tuple2)\n",
    "\n",
    "print(\"Concatenated tuple:\", result)"
   ]
  },
  {
   "cell_type": "code",
   "execution_count": null,
   "id": "2100d3dd",
   "metadata": {},
   "outputs": [],
   "source": [
    "#Q24 Develop a code that prompts the user to input two sets of strings. Then, print the elements that are\n",
    "#present in the first set but not in the second set\n",
    "\n",
    "set1 = set(input(\"Enter the first set of strings (separated by spaces): \").split())\n",
    "set2 = set(input(\"Enter the second set of strings (separated by spaces): \").split())\n",
    "\n",
    "difference = set1 - set2\n",
    "\n",
    "print(\"Elements present in the first set but not in the second set:\", difference)"
   ]
  },
  {
   "cell_type": "code",
   "execution_count": null,
   "id": "91087998",
   "metadata": {},
   "outputs": [],
   "source": [
    "#Q25 Create a code that takes a tuple and two integers as input. The function should return a new tuple\n",
    "def extract_range_from_tuple(t, start, end):\n",
    "    return t[start:end]\n",
    "\n",
    "t = tuple(map(int, input(\"Enter the tuple elements separated by spaces: \").split()))\n",
    "start = int(input(\"Enter the start index: \"))\n",
    "end = int(input(\"Enter the end index: \"))\n",
    "\n",
    "result = extract_range_from_tuple(t, start, end)\n",
    "\n",
    "print(\"The new tuple with elements in the specified range:\", result)"
   ]
  },
  {
   "cell_type": "code",
   "execution_count": null,
   "id": "56b4b1b0",
   "metadata": {},
   "outputs": [],
   "source": [
    "#Q26 Write a code that prompts the user to input two sets of characters. Then, print the union of these two sets\n",
    "\n",
    "set1 = set(input(\"Enter the first set of characters (separated by spaces): \").split())\n",
    "set2 = set(input(\"Enter the second set of characters (separated by spaces): \").split())\n",
    "\n",
    "union = set1 | set2\n",
    "\n",
    "print(\"The union of the two sets is:\", union)"
   ]
  },
  {
   "cell_type": "code",
   "execution_count": null,
   "id": "987d61c3",
   "metadata": {},
   "outputs": [],
   "source": [
    "#Q27 Develop a code that takes a tuple of integers as input. The function should return the maximum and minimum\n",
    "def find_max_min(t):\n",
    "    return (max(t), min(t))\n",
    "\n",
    "t = tuple(map(int, input(\"Enter a tuple of integers (separated by spaces): \").split()))\n",
    "\n",
    "max_val, min_val = find_max_min(t)\n",
    "\n",
    "print(\"Maximum value:\", max_val)\n",
    "print(\"Minimum value:\", min_val)"
   ]
  },
  {
   "cell_type": "code",
   "execution_count": null,
   "id": "c13d15f1",
   "metadata": {},
   "outputs": [],
   "source": [
    "#Q28 reate a code that defines two sets of integers. Then, print the union, intersection, and difference of these\n",
    "#two sets\n",
    "set1 = {1, 2, 3, 4, 5}\n",
    "set2 = {4, 5, 6, 7, 8}\n",
    "\n",
    "union = set1 | set2\n",
    "intersection = set1 & set2\n",
    "difference = set1 - set2\n",
    "\n",
    "print(\"Union of the sets:\", union)\n",
    "print(\"Intersection of the sets:\", intersection)\n",
    "print(\"Difference of the sets (set1 - set2):\", difference)"
   ]
  },
  {
   "cell_type": "code",
   "execution_count": null,
   "id": "0bad81a3",
   "metadata": {},
   "outputs": [],
   "source": [
    "#Q29 Write a code that takes a tuple and an element as input. The function should return the count of\n",
    "#occurrences of the given element in the tuple\n",
    "\n",
    "def count_occurrences(t, element):\n",
    "    return t.count(element)\n",
    "\n",
    "t = tuple(map(int, input(\"Enter the tuple elements separated by spaces: \").split()))\n",
    "element = int(input(\"Enter the element to count: \"))\n",
    "\n",
    "count = count_occurrences(t, element)\n",
    "\n",
    "print(f\"The element {element} appears {count} times in the tuple.\")"
   ]
  },
  {
   "cell_type": "code",
   "execution_count": null,
   "id": "a1c3cd19",
   "metadata": {},
   "outputs": [],
   "source": [
    "#Q30 Develop a code that prompts the user to input two sets of strings. Then, print the symmetric difference of\n",
    "#these two sets\n",
    "\n",
    "set1 = set(input(\"Enter the first set of strings (separated by spaces): \").split())\n",
    "set2 = set(input(\"Enter the second set of strings (separated by spaces): \").split())\n",
    "\n",
    "symmetric_difference = set1 ^ set2\n",
    "\n",
    "print(\"The symmetric difference of the two sets is:\", symmetric_difference)"
   ]
  },
  {
   "cell_type": "code",
   "execution_count": null,
   "id": "58cea3b7",
   "metadata": {},
   "outputs": [],
   "source": [
    "#Q31 Write a code that takes a list of words as input and returns a dictionary where the keys are unique words\n",
    "#and the values are the frequencies of those words in the input list\n",
    "\n",
    "words = input(\"Enter a list of words separated by spaces: \").split()\n",
    "\n",
    "word_frequency = {}\n",
    "\n",
    "for word in words:\n",
    "    word_frequency[word] = word_frequency.get(word, 0) + 1\n",
    "\n",
    "print(\"Word frequencies:\", word_frequency)"
   ]
  },
  {
   "cell_type": "code",
   "execution_count": null,
   "id": "273e39f5",
   "metadata": {},
   "outputs": [],
   "source": [
    "#Q32 Write a code that takes two dictionaries as input and merges them into a single dictionary. If there are\n",
    "#common keys, the values should be added together\n",
    "dict1 = eval(input(\"Enter the first dictionary: \"))\n",
    "dict2 = eval(input(\"Enter the second dictionary: \"))\n",
    "\n",
    "merged_dict = dict1.copy()\n",
    "\n",
    "for key, value in dict2.items():\n",
    "    if key in merged_dict:\n",
    "        merged_dict[key] += value\n",
    "    else:\n",
    "        merged_dict[key] = value\n",
    "\n",
    "print(\"Merged dictionary:\", merged_dict)"
   ]
  }
 ],
 "metadata": {
  "kernelspec": {
   "display_name": "Python 3 (ipykernel)",
   "language": "python",
   "name": "python3"
  },
  "language_info": {
   "codemirror_mode": {
    "name": "ipython",
    "version": 3
   },
   "file_extension": ".py",
   "mimetype": "text/x-python",
   "name": "python",
   "nbconvert_exporter": "python",
   "pygments_lexer": "ipython3",
   "version": "3.11.5"
  }
 },
 "nbformat": 4,
 "nbformat_minor": 5
}
